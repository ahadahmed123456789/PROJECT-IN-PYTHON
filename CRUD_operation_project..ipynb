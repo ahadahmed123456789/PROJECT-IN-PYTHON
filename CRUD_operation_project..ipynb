{
 "cells": [
  {
   "cell_type": "code",
   "execution_count": 25,
   "id": "c73096f9",
   "metadata": {},
   "outputs": [],
   "source": [
    "from pathlib import Path\n",
    "import os\n",
    "def readfileandfolder():\n",
    "\n",
    "    path = Path('')\n",
    "    items =list( path.rglob('*'))\n",
    "    for i,items in enumerate(items):\n",
    "        print(f\"{i+1} : {items} \")\n",
    "\n"
   ]
  },
  {
   "cell_type": "code",
   "execution_count": 26,
   "id": "52830467",
   "metadata": {},
   "outputs": [],
   "source": [
    "def Creatingfile():\n",
    "    readfileandfolder()\n",
    "    try:\n",
    "        print(\"YOUR FILE  IS ON (CREATING MODE)\")\n",
    "        name = input(\"ENTER THE FILE NAME = \")\n",
    "        p = Path(name)\n",
    "        if not p.exists():\n",
    "            with open(p,\"w\") as fs:\n",
    "                data = input(\"WHAT DO YOU WANT TO WRITE IN THIS FILE = \")\n",
    "                fs.write(data)\n",
    "            print(\"FILE  IS CREATED SUCCESSFULLY\")\n",
    "        else :\n",
    "            print(\"THIS FILE IS ALREADY CREATED !\")\n",
    "    except Exception as err:\n",
    "        print(f\"AN ERROR IS OUCCURE AS {err}\")\n"
   ]
  },
  {
   "cell_type": "code",
   "execution_count": 27,
   "id": "5b5f9931",
   "metadata": {},
   "outputs": [],
   "source": [
    "def Readingfile():\n",
    "    readfileandfolder()\n",
    "    try:\n",
    "        print(\"YOUR FILE IS ON (READING MODE)\")\n",
    "        name = input(\"ENTER THE FILE NAME = \")\n",
    "        p = Path(name)\n",
    "        if p.exists() and p.is_file():\n",
    "\n",
    "            with open(p,\"r\") as fs:\n",
    "                data = fs.read()\n",
    "                print(data)\n",
    "        else :\n",
    "            print(\"THIS FILE NOT EXITS / IS NOT FILE !\")\n",
    "    except Exception as err:\n",
    "        print(f\"AN ERROR IS OUCCURE AS {err}\")\n",
    "    print(\"FILE IS READED SUCCESSFULLY\")"
   ]
  },
  {
   "cell_type": "code",
   "execution_count": 28,
   "id": "ee12f820",
   "metadata": {},
   "outputs": [],
   "source": [
    "def updatingfile():\n",
    "    readfileandfolder()\n",
    "    try:\n",
    "        print(\"YOUR FILE IS ON (UPDATING MODE)\")\n",
    "        name = input(\"ENTER THE FILE NAME = \")\n",
    "        p = Path(name)\n",
    "        if p.exists() and p.is_file():\n",
    "            print(\"PRESS 1 FOR RENAME A FILE \")\n",
    "            print(\"PRESS 2 FOR OVERWRITING  A FILE \")\n",
    "            print(\"PRESS 3 FOR APPEND IN A FILE \")\n",
    "\n",
    "            res = int (input(\"TELL YOUR RESPONSE = \"))\n",
    "            if res == 1:\n",
    "                name2 = input(\"ENTER THE FILE NAME = \")\n",
    "                p2 = Path(name2)\n",
    "                p.rename(p2) \n",
    "            elif res == 2 :\n",
    "                with open(p,\"w\") as fs:\n",
    "                    data = input(\"WHAT DO YOU WANT TO WRITE IN FILE = \")\n",
    "                    fs.write(data)\n",
    "            elif res == 3:\n",
    "                with open(p,\"w\") as fs:\n",
    "                    data = input(\"WHAT DO YOU WANT TO APPEND IN FILE = \")\n",
    "                    fs.write(data)\n",
    "        else :\n",
    "            print(\"THIS FILE NOT EXITS / IS NOT FILE !\")\n",
    "    \n",
    "    except Exception as err:\n",
    "            print(f\"AN ERROR IS OUCCURE AS {err}\")\n",
    "    print(\"FILE IS UPDATING SUCCESSFULLY\")"
   ]
  },
  {
   "cell_type": "code",
   "execution_count": 29,
   "id": "f7117981",
   "metadata": {},
   "outputs": [],
   "source": [
    "def deletingfile():\n",
    "    readfileandfolder()\n",
    "    try:\n",
    "        print(\"YOUR FILE IS ON (UPDATING MODE)\")\n",
    "        name = input(\"ENTER THE FILE NAME = \")\n",
    "        p = Path(name) \n",
    "        if p.exists and p.is_file :\n",
    "            os.remove(p)\n",
    "        else :\n",
    "            print(\"THIS FILE NOT EXITS / IS NOT FILE !\")\n",
    "\n",
    "    except Exception as err :\n",
    "        print(f\"AN ERROR IS OUCCURE AS {err}\")\n",
    "\n",
    "    print(\"FILE IS DELETED  SUCCESSFULLY\")\n"
   ]
  },
  {
   "cell_type": "code",
   "execution_count": 30,
   "id": "c5ecd7a1",
   "metadata": {},
   "outputs": [
    {
     "name": "stdout",
     "output_type": "stream",
     "text": [
      "PRESS 1 FOR CREATING A FILE\n",
      "PRESS 2 FOR READING A FILE\n",
      "PRESS 3 FOR UPDATING A FILE\n",
      "PRESS 4 FOR DELETION A FILE\n",
      "1 : CRUD_operation_project..ipynb \n",
      "2 : hello.py \n",
      "3 : restaurant_management.py \n",
      "YOUR FILE IS ON (UPDATING MODE)\n",
      "FILE IS DELETED  SUCCESSFULLY\n"
     ]
    }
   ],
   "source": [
    "print(\"PRESS 1 FOR CREATING A FILE\")\n",
    "print(\"PRESS 2 FOR READING A FILE\")\n",
    "print(\"PRESS 3 FOR UPDATING A FILE\")\n",
    "print(\"PRESS 4 FOR DELETION A FILE\")\n",
    "\n",
    "check = int(input(\"PLEASE ENTER YOUR RESPONSE = \"))\n",
    "\n",
    "if check == 1 :\n",
    "    Creatingfile()\n",
    "elif check == 2 :\n",
    "    Readingfile()\n",
    "elif check == 3 :\n",
    "    updatingfile()\n",
    "elif check == 4 :\n",
    "    deletingfile()"
   ]
  }
 ],
 "metadata": {
  "kernelspec": {
   "display_name": "Python 3",
   "language": "python",
   "name": "python3"
  },
  "language_info": {
   "codemirror_mode": {
    "name": "ipython",
    "version": 3
   },
   "file_extension": ".py",
   "mimetype": "text/x-python",
   "name": "python",
   "nbconvert_exporter": "python",
   "pygments_lexer": "ipython3",
   "version": "3.13.6"
  }
 },
 "nbformat": 4,
 "nbformat_minor": 5
}
